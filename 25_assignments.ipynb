{
  "cells": [
    {
      "cell_type": "markdown",
      "metadata": {
        "id": "view-in-github",
        "colab_type": "text"
      },
      "source": [
        "<a href=\"https://colab.research.google.com/github/Rashid-Chippa/25_Assignments/blob/main/25_assignments.ipynb\" target=\"_parent\"><img src=\"https://colab.research.google.com/assets/colab-badge.svg\" alt=\"Open In Colab\"/></a>"
      ]
    },
    {
      "cell_type": "markdown",
      "metadata": {
        "id": "-Biai0NynaRf"
      },
      "source": [
        "***Mad lib***"
      ]
    },
    {
      "cell_type": "code",
      "execution_count": null,
      "metadata": {
        "colab": {
          "base_uri": "https://localhost:8080/"
        },
        "id": "weXrUxsTlS8A",
        "outputId": "92ea4e31-1fa9-4be2-b11f-487d3633cd4e"
      },
      "outputs": [
        {
          "name": "stdout",
          "output_type": "stream",
          "text": [
            " give me a name :rashid\n",
            "give me a place :karachi\n",
            "give me a funny adjective :wobbly\n",
            "give me a random object : toaster\n",
            "give me an animal :cat\n",
            "give me a verb :dancing\n",
            "give me a funny excalmationgreat googly woogly\n",
            "\n",
            "  Here is your Mad lib story :\n",
            "\n",
            "once open a time there was a person namedrashid who lived in a karachi.\n",
            "one day they found a wobbly toaster that .\n",
            "the cat was very upset and started to dancing around .\n",
            "rashid couldn't help but laugh and shouted great googly woogly!\".\n"
          ]
        }
      ],
      "source": [
        "def mad_lib():\n",
        " print (\"Let\\'s play mad lib ! fill in the blanks with your own words . \")\n",
        "name= input (\" give me a name :\")\n",
        "place= input(\"give me a place :\")\n",
        "funny_adjective= input(\"give me a funny adjective :\")\n",
        "random_object = input (\"give me a random object : \")\n",
        "animal= input(\"give me an animal :\")\n",
        "verb= input(\"give me a verb :\")\n",
        "funny_exclamation = input (\"give me a funny excalmation\")\n",
        "\n",
        "story = f'''\n",
        "once open a time there was a person named { name} who lived in a { place}.\n",
        "one day they found a {funny_adjective} {random_object} that .\n",
        "the {animal} was very upset and started to {verb} around .\n",
        "{name} couldn't help but laugh and shouted {funny_exclamation}!\".'''\n",
        "\n",
        "print (\"\\n  Here is your Mad lib story :\")\n",
        "print (story)\n",
        "if __name__ == \"__main__\":\n",
        "  mad_lib()"
      ]
    },
    {
      "cell_type": "markdown",
      "metadata": {
        "id": "UHPn0yHbuB3E"
      },
      "source": [
        "***guess the number (computer)***"
      ]
    },
    {
      "cell_type": "code",
      "execution_count": null,
      "metadata": {
        "colab": {
          "base_uri": "https://localhost:8080/"
        },
        "id": "JLT29FZrt12S",
        "outputId": "83677dd3-44ae-4471-c90a-3f818a140a3b"
      },
      "outputs": [
        {
          "output_type": "stream",
          "name": "stdout",
          "text": [
            "Welcome To The Number Guessing Game\n",
            "Think Of A Number Between 1 TO 10 And Computer Will Guess The Number\n",
            "Computer Guess The Number: 2\n",
            "Is the guess too high (H), too low (L) or correct (C)? l\n",
            "Computer Guess The Number: 6\n",
            "Is the guess too high (H), too low (L) or correct (C)? l\n",
            "Computer Guess The Number: 8\n",
            "Is the guess too high (H), too low (L) or correct (C)? h\n",
            "Computer Guess The Number: 7\n",
            "Is the guess too high (H), too low (L) or correct (C)? c\n",
            "Computer guessed correctly!\n"
          ]
        }
      ],
      "source": [
        "import random\n",
        "\n",
        "print(\"Welcome To The Number Guessing Game\")\n",
        "low = 1\n",
        "high = 10\n",
        "\n",
        "print(\"Think Of A Number Between 1 TO 10 And Computer Will Guess The Number\")\n",
        "guess = random.randint(low, high)\n",
        "print(\"Computer Guess The Number:\", guess)\n",
        "\n",
        "while True:\n",
        "    feedback = input(\"Is the guess too high (H), too low (L) or correct (C)? \").strip().upper()\n",
        "\n",
        "    if feedback == \"C\":\n",
        "        print(\"Computer guessed correctly!\")\n",
        "        break\n",
        "    elif feedback == \"H\":\n",
        "        high = guess - 1\n",
        "    elif feedback == \"L\":\n",
        "        low = guess + 1\n",
        "    else:\n",
        "        print(\"Invalid Input. Please enter H, L, or C.\")\n",
        "        continue\n",
        "\n",
        "    if low > high:\n",
        "        print(\"You must be cheating! The number is not in the range. Please try again.\")\n",
        "        break\n",
        "\n",
        "    guess = random.randint(low, high)\n",
        "    print(\"Computer Guess The Number:\", guess)"
      ]
    },
    {
      "cell_type": "markdown",
      "metadata": {
        "id": "lqDHJ5On3Og3"
      },
      "source": [
        "***Guess The Number Game (User Guess)***\n"
      ]
    },
    {
      "cell_type": "code",
      "execution_count": null,
      "metadata": {
        "id": "MZlNbdoS3dN3",
        "colab": {
          "base_uri": "https://localhost:8080/"
        },
        "outputId": "442bdfed-ba90-4548-d129-99915761e9e0"
      },
      "outputs": [
        {
          "output_type": "stream",
          "name": "stdout",
          "text": [
            "Welcome to the Number Guessing Game!\n",
            "I Have A Secret Number Between 1 and 10. Can You Guess It?\n",
            "Enter Your Guess: 4\n",
            "Too High! Try Again\n",
            "Enter Your Guess: 9\n",
            "Too High! Try Again\n",
            "Enter Your Guess: 8\n",
            "Too High! Try Again\n",
            "Enter Your Guess: 7\n",
            "Too High! Try Again\n",
            "Enter Your Guess: 6\n",
            "Too High! Try Again\n",
            "Enter Your Guess: 5\n",
            "Too High! Try Again\n",
            "Enter Your Guess: 3\n",
            "Too High! Try Again\n",
            "Enter Your Guess: 2\n",
            "Congratulations! You Guessed The Correct Number.\n"
          ]
        }
      ],
      "source": [
        "import random\n",
        "\n",
        "print(\"Welcome to the Number Guessing Game!\")\n",
        "secret_number = random.randint(1, 10)  # Fixed: randit → randint\n",
        "print(\"I Have A Secret Number Between 1 and 10. Can You Guess It?\")\n",
        "\n",
        "while True:\n",
        "    try:\n",
        "        guess = int(input(\"Enter Your Guess: \"))\n",
        "\n",
        "        if guess > secret_number:\n",
        "            print(\"Too High! Try Again\")\n",
        "        elif guess < secret_number:\n",
        "            print(\"Too Low! Try Again\")\n",
        "        else:  # This means guess == secret_number\n",
        "            print(\"Congratulations! You Guessed The Correct Number.\")\n",
        "            break  # Exit the loop when correct\n",
        "\n",
        "    except ValueError:\n",
        "        print(\"Invalid Input. Please Enter A Valid Number Between 1 and 10.\")"
      ]
    },
    {
      "cell_type": "markdown",
      "source": [
        "***Rock,Paper,Scissors Game***"
      ],
      "metadata": {
        "id": "K8yZjPHBBa5m"
      }
    },
    {
      "cell_type": "code",
      "source": [
        "import random\n",
        "\n",
        "print(\"Welcome To The Rock, Paper, Scissors Game!\")\n",
        "\n",
        "choices = [\"rock\", \"paper\", \"scissors\"]\n",
        "user_score = computer_score = 0\n",
        "print(\"Let's Play!\")\n",
        "\n",
        "while True:\n",
        "    user_input = input(\"Type rock, paper, scissors or Q to quit: \").lower()\n",
        "\n",
        "    if user_input == \"q\":\n",
        "        print(f\"Final Score - You: {user_score}, Computer: {computer_score}\")\n",
        "        print(\"Thanks For Playing!\")\n",
        "        break\n",
        "\n",
        "    if user_input not in choices:\n",
        "        print(\"Invalid Input. Please Try Again.\")\n",
        "        continue\n",
        "\n",
        "    computer_choice = random.choice(choices)  # Fixed variable name\n",
        "    print(f\"Computer chose: {computer_choice}.\")\n",
        "\n",
        "    if user_input == computer_choice:\n",
        "        print(\"It's A Tie!\")\n",
        "    elif (user_input == \"rock\" and computer_choice == \"scissors\") or \\\n",
        "         (user_input == \"paper\" and computer_choice == \"rock\") or \\\n",
        "         (user_input == \"scissors\" and computer_choice == \"paper\"):\n",
        "        print(\"You Won!\")\n",
        "        user_score += 1\n",
        "    else:\n",
        "        print(\"Computer Won!\")\n",
        "        computer_score += 1\n",
        "\n",
        "    print(f\"Current Score - You: {user_score}, Computer: {computer_score}\")"
      ],
      "metadata": {
        "colab": {
          "base_uri": "https://localhost:8080/"
        },
        "id": "15g_8OlHAzwH",
        "outputId": "a3229457-e04c-47fd-c5e0-9bd53f7d564a"
      },
      "execution_count": null,
      "outputs": [
        {
          "output_type": "stream",
          "name": "stdout",
          "text": [
            "Welcome To The Rock, Paper, Scissors Game!\n",
            "Let's Play!\n",
            "Type rock, paper, scissors or Q to quit: rock\n",
            "Computer chose: scissors.\n",
            "You Won!\n",
            "Current Score - You: 1, Computer: 0\n",
            "Type rock, paper, scissors or Q to quit: paper\n",
            "Computer chose: rock.\n",
            "You Won!\n",
            "Current Score - You: 2, Computer: 0\n",
            "Type rock, paper, scissors or Q to quit: scissors\n",
            "Computer chose: scissors.\n",
            "It's A Tie!\n",
            "Current Score - You: 2, Computer: 0\n",
            "Type rock, paper, scissors or Q to quit: q\n",
            "Final Score - You: 2, Computer: 0\n",
            "Thanks For Playing!\n"
          ]
        }
      ]
    },
    {
      "cell_type": "markdown",
      "source": [
        "***Hang Man Game***"
      ],
      "metadata": {
        "id": "UmPLgzuGJUPK"
      }
    },
    {
      "cell_type": "code",
      "source": [
        "import random\n",
        "\n",
        "def hangman():\n",
        "    words = [\"apple\", \"banana\", \"python\", \"coding\", \"hangman\", \"computer\"]\n",
        "    secret_word = random.choice(words)\n",
        "    guessed_letters = []\n",
        "    attempts = 6\n",
        "\n",
        "    print(\"🌟 Welcome to Simple Hangman! 🌟\")\n",
        "    print(f\"Guess the word (it has {len(secret_word)} letters)\")\n",
        "    print(\"You have 6 attempts to save the hangman!\\n\")\n",
        "\n",
        "    while attempts > 0:\n",
        "        # Show word progress\n",
        "        display = [letter if letter in guessed_letters else '_' for letter in secret_word]\n",
        "        print(\" \".join(display))\n",
        "\n",
        "        if '_' not in display:\n",
        "            print(\"\\n🎉 You won! The word was:\", secret_word)\n",
        "            return\n",
        "\n",
        "        guess = input(\"\\nGuess a letter: \").lower()\n",
        "\n",
        "        # Input validation\n",
        "        if not guess.isalpha() or len(guess) != 1:\n",
        "            print(\"Please enter a single letter!\")\n",
        "            continue\n",
        "\n",
        "        if guess in guessed_letters:\n",
        "            print(\"You already guessed that!\")\n",
        "            continue\n",
        "\n",
        "        guessed_letters.append(guess)\n",
        "\n",
        "        if guess not in secret_word:\n",
        "            attempts -= 1\n",
        "            print(f\"Wrong! Attempts left: {attempts}\")\n",
        "            # Drawing the hangman without using backslashes in f-strings\n",
        "            print(\"   O\" if attempts < 6 else \"\")\n",
        "            print(\"  \" + (\"/\" if attempts < 4 else \" \") + (\"|\" if attempts < 5 else \" \") + (\"\\\\\" if attempts < 3 else \"\"))\n",
        "            print(\"  \" + (\"/\" if attempts < 2 else \" \") + \" \" + (\"\\\\\" if attempts < 1 else \"\"))\n",
        "\n",
        "    print(\"\\n💀 Game Over! The word was:\", secret_word)\n",
        "\n",
        "hangman()"
      ],
      "metadata": {
        "colab": {
          "base_uri": "https://localhost:8080/"
        },
        "id": "-4ocVNzdJRAi",
        "outputId": "7a81796d-a3c8-4879-824b-06bfc6b1fd0a"
      },
      "execution_count": null,
      "outputs": [
        {
          "output_type": "stream",
          "name": "stdout",
          "text": [
            "🌟 Welcome to Simple Hangman! 🌟\n",
            "Guess the word (it has 5 letters)\n",
            "You have 6 attempts to save the hangman!\n",
            "\n",
            "_ _ _ _ _\n",
            "\n",
            "Guess a letter: c\n",
            "Wrong! Attempts left: 5\n",
            "   O\n",
            "    \n",
            "    \n",
            "_ _ _ _ _\n",
            "\n",
            "Guess a letter: p\n",
            "_ p p _ _\n",
            "\n",
            "Guess a letter: y\n",
            "Wrong! Attempts left: 4\n",
            "   O\n",
            "   |\n",
            "    \n",
            "_ p p _ _\n",
            "\n",
            "Guess a letter: b\n",
            "Wrong! Attempts left: 3\n",
            "   O\n",
            "  /|\n",
            "    \n",
            "_ p p _ _\n",
            "\n",
            "Guess a letter: a\n",
            "a p p _ _\n",
            "\n",
            "Guess a letter: l\n",
            "a p p l _\n",
            "\n",
            "Guess a letter: e\n",
            "a p p l e\n",
            "\n",
            "🎉 You won! The word was: apple\n"
          ]
        }
      ]
    },
    {
      "cell_type": "markdown",
      "source": [
        "***Count Down Timer***"
      ],
      "metadata": {
        "id": "5Ivc7rnEMSvS"
      }
    },
    {
      "cell_type": "code",
      "source": [
        "import time\n",
        "\n",
        "def countdown_timer():\n",
        "    print(\"\\n=== COUNTDOWN TIMER ===\")\n",
        "\n",
        "    # Get user input\n",
        "    try:\n",
        "        mins = int(input(\"Enter minutes: \"))\n",
        "        secs = int(input(\"Enter seconds: \"))\n",
        "        total_seconds = mins * 60 + secs\n",
        "    except ValueError:\n",
        "        print(\"Invalid input! Please enter numbers only.\")\n",
        "        return\n",
        "\n",
        "    print(\"\\nTimer started!\")\n",
        "\n",
        "    while total_seconds >= 0:\n",
        "        # Calculate minutes and seconds\n",
        "        minutes, seconds = divmod(total_seconds, 60)\n",
        "\n",
        "        # Format time as MM:SS\n",
        "        timer = f\"{minutes:02d}:{seconds:02d}\"\n",
        "        print(timer, end=\"\\r\")  # Overwrite previous line\n",
        "\n",
        "        time.sleep(1)  # Wait 1 second\n",
        "        total_seconds -= 1\n",
        "\n",
        "    print(\"\\n⏰ TIME'S UP! 🎉\")\n",
        "\n",
        "# Start the timer\n",
        "countdown_timer()"
      ],
      "metadata": {
        "colab": {
          "base_uri": "https://localhost:8080/"
        },
        "id": "yYd09rUWMbz1",
        "outputId": "3d96edae-e534-4070-e8ad-876ec16bd881"
      },
      "execution_count": null,
      "outputs": [
        {
          "name": "stdout",
          "output_type": "stream",
          "text": [
            "\n",
            "=== COUNTDOWN TIMER ===\n",
            "Enter minutes: 1\n",
            "Enter seconds: 60\n"
          ]
        }
      ]
    }
  ],
  "metadata": {
    "colab": {
      "provenance": [],
      "authorship_tag": "ABX9TyNMbP3YhamdEAvk9G6cQ4sm",
      "include_colab_link": true
    },
    "kernelspec": {
      "display_name": "Python 3",
      "name": "python3"
    },
    "language_info": {
      "name": "python"
    }
  },
  "nbformat": 4,
  "nbformat_minor": 0
}